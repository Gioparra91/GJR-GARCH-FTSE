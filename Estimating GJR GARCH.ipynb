{
 "cells": [
  {
   "cell_type": "markdown",
   "metadata": {},
   "source": [
    "# Estimating the Parameters of a GARCH Model for the FTSE100 1984-2012"
   ]
  },
  {
   "cell_type": "markdown",
   "metadata": {},
   "source": [
    "This example will highlight the steps needed to estimate the parameters of a GJR-GARCH(1,1,1) model with a constant mean. The volatility dynamics in a GJR-GARCH model are given by"
   ]
  },
  {
   "cell_type": "markdown",
   "metadata": {},
   "source": [
    "$$\\sigma^2_{t}=\\omega+\\sum^p_{i=1}a_{i}\\epsilon^2_{t-i}+\\sum^o_{j=1}\\gamma_{j}\\epsilon^2_{t-j}I_{[\\epsilon_{t-j}<0]}+\\sum^q_{k=1}\\beta_{k}\\sigma^2_{t-k}$$"
   ]
  },
  {
   "cell_type": "markdown",
   "metadata": {},
   "source": [
    "Keep in mind that this is the conditional volatility at time t (time series), is not the unconditional volatility (parameter/value). The conditional volatility can be estimated with many methods, here we use the GARCH model. At the end your output are the *annualized conditional volatility* and the *GARCH parameters* used to estimate it through the hessian matrix."
   ]
  },
  {
   "cell_type": "markdown",
   "metadata": {},
   "source": [
    "Returns are assumed to be conditionally normal $r_{t}|F_{t-1}~N(\\mu,\\sigma^2_{t}),\\epsilon_{t}=r_{t}-\\mu$ and parameters are estimated by maximum likelihood. To estiamte the parameters, it is necessary to:\n",
    "- Produce some starting values\n",
    "- Estimate the parameters using (quasi-) maximum likelihood\n",
    "- Compte standard erros using a \"sandwich\" covariance estiamtor (Bollerslev&Wooldridge (1992) covariance estimator."
   ]
  },
  {
   "cell_type": "markdown",
   "metadata": {},
   "source": [
    "The first task is to write the log-likelihood which can be used in an optimizer. The log-likelihood function will compute the volatility recursion and the log-likelihood. It will also, optionally, return the T by 1 vector of individual log-likelihoods which are useful when approximating the scores."
   ]
  },
  {
   "cell_type": "code",
   "execution_count": 19,
   "metadata": {},
   "outputs": [],
   "source": [
    "import numpy as np\n",
    "import pandas as pd\n",
    "import matplotlib.pyplot as plt\n",
    "import seaborn as sns\n",
    "from numpy import size, log, pi, sum, diff, array, zeros, diag, mat, asarray, sqrt, copy\n",
    "from numpy.linalg import inv\n",
    "from scipy.optimize import fmin_slsqp"
   ]
  },
  {
   "cell_type": "markdown",
   "metadata": {},
   "source": [
    "The conditional log-likelihood of a normal random variable is:\n",
    "$$\\ln f(r_{t}|\\mu,\\sigma^2_{t})=-\\frac{1}{2}(\\ln 2\\pi+\\ln\\sigma^2_{t}+\\frac{(r_{t}-\\mu)^2}{\\sigma^2_{t}})$$\n",
    "Which has negative size in the code isnce the optimizer all minimize"
   ]
  },
  {
   "cell_type": "code",
   "execution_count": 31,
   "metadata": {},
   "outputs": [],
   "source": [
    "def gjr_garch_likelihood(parameters, data, sigma2, out=None):\n",
    "    '''Returns negative log-likelihood for GJR-GARCH(1,1,1) model'''\n",
    "    mu = parameters[0]\n",
    "    omega = parameters[1]\n",
    "    alpha = parameters[2]\n",
    "    gamma = parameters[3]\n",
    "    beta = parameters[4]\n",
    "    \n",
    "    T = size(data,0) #size for np and shape for pd\n",
    "    eps = data-mu\n",
    "    # data and sigma2 are T by 1 vectors\n",
    "    for t in range(1,T):\n",
    "        sigma2[t] = (omega + alpha * eps[t-1]**2\n",
    "                    + gamma * eps[t-1]**2 * (eps[t-1]<0)\n",
    "                     + beta * sigma2[t-1])\n",
    "        \n",
    "    logliks = 0.5*(log(2*pi) + log(sigma2) + eps**2/sigma2)\n",
    "    loglik = sum(logliks)\n",
    "    \n",
    "    if out is None:\n",
    "        return loglik\n",
    "    else:\n",
    "        return loglik, logliks, copy(sigma2)"
   ]
  },
  {
   "cell_type": "markdown",
   "metadata": {},
   "source": [
    "The keyword argument **out** has a default value of None, and is used to determine whether to return 1 output\n",
    "or 3. This is common practice since the optimizer requires a single output – the log-likelihood function\n",
    "value, but it is also useful to be able to output other useful quantities, such as $􏱷σ^2$􏱸."
   ]
  },
  {
   "cell_type": "markdown",
   "metadata": {},
   "source": [
    "The optimization is constrained so that $α + γ/2 + β ≤ 1$, and the constraint is provided in a separate function"
   ]
  },
  {
   "cell_type": "code",
   "execution_count": 32,
   "metadata": {},
   "outputs": [],
   "source": [
    "def gjr_constraint(parameters, data, sigma2, out=None):\n",
    "    '''Constraint that alpha+gamma/2+beta<=1'''\n",
    "    alpha = parameters[2]\n",
    "    gamma = parameters[3]\n",
    "    beta = parameters[4]\n",
    "    \n",
    "    return array([1-alpha-gamma/2-beta])"
   ]
  },
  {
   "cell_type": "markdown",
   "metadata": {},
   "source": [
    "It is necessary to discuss one other function before proceeding with the main block of code. The asymptotic variance is estimated using the “sandwich” form which is commonly expressed as...they show the formula of the hessian matrix which I don't want to know..."
   ]
  },
  {
   "cell_type": "code",
   "execution_count": 33,
   "metadata": {},
   "outputs": [],
   "source": [
    "def hessian_2sided(fun, theta, args):\n",
    "    f = fun(theta, *args)\n",
    "    h = 1e-5*np.abs(theta)\n",
    "    thetah = theta + h\n",
    "    h = thetah - theta\n",
    "    K = size(theta,0)\n",
    "    h = np.diag(h)\n",
    "    fp = zeros(K)\n",
    "    fm = zeros(K)\n",
    "    for i in range(K):\n",
    "        fp[i] = fun(theta+h[i], *args)\n",
    "        fm[i] = fun(theta-h[i], *args)\n",
    "    fpp = zeros((K,K))\n",
    "    fmm = zeros((K,K))\n",
    "    for i in range(K):\n",
    "        for j in range(i,K):\n",
    "            fpp[i,j] = fun(theta + h[i] + h[j],  *args)\n",
    "            fpp[j,i] = fpp[i,j]\n",
    "            fmm[i,j] = fun(theta - h[i] - h[j],  *args)\n",
    "            fmm[j,i] = fmm[i,j]\n",
    "    hh = (diag(h))\n",
    "    hh = hh.reshape((K,1))\n",
    "    hh = hh @ hh.T\n",
    "    H = zeros((K,K))\n",
    "    for i in range(K):\n",
    "        for j in range(i,K):\n",
    "            H[i,j] = (fpp[i,j] - fp[i] - fp[j] + f\n",
    "                       + f - fm[i] - fm[j] + fmm[i,j])/hh[i,j]/2\n",
    "            H[j,i] = H[i,j]\n",
    "    return H"
   ]
  },
  {
   "cell_type": "markdown",
   "metadata": {},
   "source": [
    "Finally, **the code that does the actual work can be written**. The first block imports the data, flips it using a slicing operator, and computes 100 times returns. Scaling data can be useful to improve optimizer performance, and ideally estimated parameters should have similar magnitudes (i.e. $ω$ ≈ .01 and $α$ ≈ .05)."
   ]
  },
  {
   "cell_type": "code",
   "execution_count": 34,
   "metadata": {},
   "outputs": [],
   "source": [
    "# import data\n",
    "FTSE = pd.read_csv('FTSE_1984_2012.csv', parse_dates=[0])\n",
    "# set index\n",
    "FTSE.index = FTSE.pop('Date')\n",
    "# Flip upside down\n",
    "FTSE = FTSE.iloc[::-1]\n",
    "# Compute returns \n",
    "FTSEprice = FTSE.Close\n",
    "FTSEreturn = 100*FTSEprice.pct_change().dropna() # drop 1st obs"
   ]
  },
  {
   "cell_type": "markdown",
   "metadata": {},
   "source": [
    "Good starting values are important. These are my guesses based on experience fitting these types of mod- els models. An alternative is to attempt a crude grid search and use the best (smallest) log-likelihood value from the grid search."
   ]
  },
  {
   "cell_type": "code",
   "execution_count": 35,
   "metadata": {},
   "outputs": [],
   "source": [
    "# Starting values\n",
    "startingVals = array([FTSEreturn.mean(),\n",
    "                     FTSEreturn.var()*.01,\n",
    "                     .03, .09, .90])"
   ]
  },
  {
   "cell_type": "markdown",
   "metadata": {},
   "source": [
    "Bounds are used in estimation to ensure that all parameters in the conditional variance are ≥ 0 and to set sensible upper bounds on the mean and ω. The vector sigma2 is then initialized, and the arguments are placed in a tuple."
   ]
  },
  {
   "cell_type": "code",
   "execution_count": 36,
   "metadata": {
    "scrolled": true
   },
   "outputs": [
    {
     "name": "stdout",
     "output_type": "stream",
     "text": [
      "Optimization terminated successfully.    (Exit mode 0)\n",
      "            Current function value: 9569.030507603133\n",
      "            Iterations: 12\n",
      "            Function evaluations: 101\n",
      "            Gradient evaluations: 12\n"
     ]
    }
   ],
   "source": [
    "# Estimate parameters\n",
    "finfo = np.finfo(np.float64)\n",
    "bounds = [(-10*FTSEreturn.mean(), 10*FTSEreturn.mean()),\n",
    "         (finfo.eps, 2*FTSEreturn.var() ),\n",
    "         (0.0,1.0), (0.0,1.0), (0.0,1.0)]\n",
    "\n",
    "T = FTSEreturn.shape[0]\n",
    "sigma2 = np.ones(T)*FTSEreturn.var()\n",
    "\n",
    "# Pass a NumPy array, not a Pandas Series\n",
    "args = (np.asarray(FTSEreturn), sigma2)\n",
    "estimates = fmin_slsqp(gjr_garch_likelihood, startingVals, \\\n",
    "                      f_ieqcons=gjr_constraint, bounds=bounds, \\\n",
    "                      args = args)"
   ]
  },
  {
   "cell_type": "markdown",
   "metadata": {},
   "source": [
    "The optimized log-likelihood and the time series of variances are computed by calling the objective using the keyword argument $out=True$."
   ]
  },
  {
   "cell_type": "code",
   "execution_count": 37,
   "metadata": {},
   "outputs": [],
   "source": [
    "loglik, logliks, sigma2final = gjr_garch_likelihood(estimates, FTSEreturn, \\\n",
    "                                                   sigma2, out=True)"
   ]
  },
  {
   "cell_type": "code",
   "execution_count": 56,
   "metadata": {
    "scrolled": true
   },
   "outputs": [
    {
     "data": {
      "image/png": "[encoded data removed]",
      "text/plain": [
       "<Figure size 720x360 with 2 Axes>"
      ]
     },
     "metadata": {},
     "output_type": "display_data"
    }
   ],
   "source": [
    "fig = plt.figure(figsize=[10,5])\n",
    "\n",
    "ax = fig.add_subplot(1,2,1)\n",
    "plt.plot(logliks)\n",
    "ax.set_title('logliks')\n",
    "\n",
    "ax = fig.add_subplot(1,2,2)\n",
    "plt.plot(sigma2final)\n",
    "ax.set_title('sigma2final')\n",
    "\n",
    "plt.show()"
   ]
  },
  {
   "cell_type": "markdown",
   "metadata": {},
   "source": [
    "Next, the numerical scores and the covariance of the scores are computed. These exploit the definition of a derivative, so that for a scalar function, the covariance is computed as the outer product of the scores since the scores should have mean 0 evaluated at the solution to the optimization problem."
   ]
  },
  {
   "cell_type": "code",
   "execution_count": 65,
   "metadata": {},
   "outputs": [],
   "source": [
    "step = 1e-5 * estimates\n",
    "scores = zeros((T,5))\n",
    "for i in range(5):\n",
    "    h = step[i]\n",
    "    delta = np.zeros(5)\n",
    "    delta[i] = h\n",
    "    loglik, logliksplus, sigma2 = gjr_garch_likelihood(estimates + delta, \\\n",
    "                               np.asarray(FTSEreturn), sigma2, out=True)\n",
    "    loglik, logliksminus, sigma2 = gjr_garch_likelihood(estimates - delta, \\\n",
    "                              np.asarray(FTSEreturn), sigma2, out=True)\n",
    "    scores[:,i] = (logliksplus - logliksminus)/(2*h)\n",
    "I = (scores.T @ scores)/T"
   ]
  },
  {
   "cell_type": "markdown",
   "metadata": {},
   "source": [
    "The next block calls hessian_2sided to estimate the Hessian, and then computes the asymptotic covariance."
   ]
  },
  {
   "cell_type": "code",
   "execution_count": 67,
   "metadata": {},
   "outputs": [],
   "source": [
    "J = hessian_2sided(gjr_garch_likelihood, estimates, args)\n",
    "J = J/T\n",
    "Jinv = mat(inv(J))\n",
    "vcv = Jinv*mat(I)*Jinv/T\n",
    "vcv = asarray(vcv)"
   ]
  },
  {
   "cell_type": "markdown",
   "metadata": {},
   "source": [
    "The penultimate step is to pretty print the results and to produce a plot of the conditional variances."
   ]
  },
  {
   "cell_type": "code",
   "execution_count": 69,
   "metadata": {},
   "outputs": [
    {
     "name": "stdout",
     "output_type": "stream",
     "text": [
      "Parameter   Estimate       Std. Err.      T-stat\n",
      "mu          0.032146        0.010084     3.18795\n",
      "omega       0.017610        0.003330     5.28813\n",
      "alpha       0.030658        0.006730     4.55564\n",
      "gamma       0.091709        0.012944     7.08484\n",
      "beta        0.906327        0.009784     92.62951\n"
     ]
    }
   ],
   "source": [
    "output = np.vstack((estimates,sqrt(diag(vcv)),estimates/sqrt(diag(vcv)))).T\n",
    "print('Parameter   Estimate       Std. Err.      T-stat')\n",
    "param = ['mu','omega','alpha','gamma','beta']\n",
    "for i in range(len(param)):\n",
    "    print('{0:<11} {1:>0.6f}        {2:0.6f}    {3: 0.5f}'.format(param[i],\n",
    "           output[i,0], output[i,1], output[i,2]))"
   ]
  },
  {
   "cell_type": "markdown",
   "metadata": {},
   "source": [
    "This final block produces a plot of the annualized conditional standard deviations."
   ]
  },
  {
   "cell_type": "code",
   "execution_count": 77,
   "metadata": {},
   "outputs": [
    {
     "data": {
      "image/png": "[encoded data removed]",
      "text/plain": [
       "<Figure size 432x288 with 1 Axes>"
      ]
     },
     "metadata": {},
     "output_type": "display_data"
    }
   ],
   "source": [
    "# Produce a plot\n",
    "dates = FTSE.index[1:]\n",
    "fig = plt.figure()\n",
    "ax = fig.add_subplot(111)\n",
    "    # below you are annualizing the volatility\n",
    "volatility = pd.DataFrame(np.sqrt(252 * sigma2), index=dates)\n",
    "ax.plot(volatility.index,volatility)\n",
    "ax.autoscale(tight='x')\n",
    "fig.autofmt_xdate()\n",
    "fig.set_tight_layout\n",
    "fig.tight_layout(pad=1.5)\n",
    "ax.set_ylabel('Volatility')\n",
    "ax.set_title('FTSE Volatility 1984-2012 (GJR GARCH(1,1,1))')\n",
    "plt.grid()\n",
    "plt.show()"
   ]
  },
  {
   "cell_type": "code",
   "execution_count": null,
   "metadata": {},
   "outputs": [],
   "source": []
  }
 ],
 "metadata": {
  "kernelspec": {
   "display_name": "Python 3",
   "language": "python",
   "name": "python3"
  },
  "language_info": {
   "codemirror_mode": {
    "name": "ipython",
    "version": 3
   },
   "file_extension": ".py",
   "mimetype": "text/x-python",
   "name": "python",
   "nbconvert_exporter": "python",
   "pygments_lexer": "ipython3",
   "version": "3.6.6"
  }
 },
 "nbformat": 4,
 "nbformat_minor": 2
}
